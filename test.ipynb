{
 "cells": [
  {
   "cell_type": "markdown",
   "id": "06bbca55-e009-4024-b7bf-2dfb3f336f43",
   "metadata": {},
   "source": [
    "# havok test"
   ]
  },
  {
   "cell_type": "code",
   "execution_count": 4,
   "id": "4b579602-30ef-4fe4-98b1-2b1c39da5fcf",
   "metadata": {},
   "outputs": [],
   "source": [
    "from rhavok.havok import havok"
   ]
  },
  {
   "cell_type": "code",
   "execution_count": null,
   "id": "28869d68-ff36-485f-85f0-a699f21a2d9d",
   "metadata": {},
   "outputs": [],
   "source": [
    "havok."
   ]
  },
  {
   "cell_type": "code",
   "execution_count": null,
   "id": "8f317fb2-aa21-43b0-a342-ceaa2746ab00",
   "metadata": {},
   "outputs": [],
   "source": []
  }
 ],
 "metadata": {
  "kernelspec": {
   "display_name": "Python 3 (ipykernel)",
   "language": "python",
   "name": "python3"
  },
  "language_info": {
   "codemirror_mode": {
    "name": "ipython",
    "version": 3
   },
   "file_extension": ".py",
   "mimetype": "text/x-python",
   "name": "python",
   "nbconvert_exporter": "python",
   "pygments_lexer": "ipython3",
   "version": "3.8.10"
  }
 },
 "nbformat": 4,
 "nbformat_minor": 5
}
