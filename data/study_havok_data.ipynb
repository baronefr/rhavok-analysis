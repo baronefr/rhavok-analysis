{
 "cells": [
  {
   "cell_type": "markdown",
   "id": "6c4d9fd4-d7d4-4b14-bde6-a34fdf9f319e",
   "metadata": {},
   "source": [
    "# **HAVOK study** | data generation\n",
    "\n",
    "Generate the test dataset used to characterize the Havok output prediction capabilities."
   ]
  },
  {
   "cell_type": "code",
   "execution_count": 1,
   "id": "c27f6f6a-c85c-4236-873f-f21c39e14130",
   "metadata": {},
   "outputs": [],
   "source": [
    "import rhavok\n",
    "from rhavok.havok import havok\n",
    "\n",
    "import numpy as np\n",
    "import matplotlib.pyplot as plt"
   ]
  },
  {
   "cell_type": "code",
   "execution_count": 2,
   "id": "d6a0a90a-e578-49dd-8b0c-930af567756a",
   "metadata": {},
   "outputs": [
    {
     "data": {
      "text/plain": [
       "'0.1.4'"
      ]
     },
     "execution_count": 2,
     "metadata": {},
     "output_type": "execute_result"
    }
   ],
   "source": [
    "rhavok.__version__"
   ]
  },
  {
   "cell_type": "code",
   "execution_count": 3,
   "id": "c768a32e-c9f2-419e-b64e-3ed0b2d26748",
   "metadata": {},
   "outputs": [],
   "source": [
    "data_path = './havok/'"
   ]
  },
  {
   "cell_type": "markdown",
   "id": "6d866cbb-6efe-4907-a177-eda3c4fb4b42",
   "metadata": {},
   "source": [
    "<br>\n",
    "\n",
    "#### Data import\n",
    "\n",
    "We import the Lorenz attractor data. This ODE solution has been generated using the parameters\n",
    "$\\sigma = 10$, $\\beta = 8/3$ and $\\rho = 28$, with initial condition $x_0 = \\left[ -8, 8, 27\\right]$. The data is sampled with time step $dt=0.001$ using an ode45 solver."
   ]
  },
  {
   "cell_type": "code",
   "execution_count": 4,
   "id": "48fbe83d-d71f-4270-b92f-8c2f4894f531",
   "metadata": {},
   "outputs": [],
   "source": [
    "# load data from Lorenz attractor\n",
    "xxn, yyn, zzn = np.load('./attractors/Lorenz_ext3000.npy')\n",
    "dt = 0.001\n",
    "ttn = dt*np.arange(len(xxn))"
   ]
  },
  {
   "cell_type": "markdown",
   "id": "dfb83db5-9790-40c2-919c-13fc263a89e8",
   "metadata": {},
   "source": [
    "<br><br>\n",
    "### The usual Havok workflow\n",
    "\n",
    "This time I generate the dataset using an higher rank ($r=21$), in order to have more tracks to test and characterize."
   ]
  },
  {
   "cell_type": "code",
   "execution_count": 5,
   "id": "169aa0a3-2c7e-4771-a7c3-e0cea428f61a",
   "metadata": {},
   "outputs": [
    {
     "name": "stdout",
     "output_type": "stream",
     "text": [
      "applying crop index 2200000\n"
     ]
    }
   ],
   "source": [
    "lorh = havok(dataset = xxn, dt = dt, timing = ttn, time_delay_size = 100, crop = int(2200/dt),\n",
    "                 train_size = int(200/dt), rank = 21)"
   ]
  },
  {
   "cell_type": "code",
   "execution_count": 6,
   "id": "40c62c6a-d801-46cd-90c4-245d80293a4b",
   "metadata": {},
   "outputs": [
    {
     "name": "stdout",
     "output_type": "stream",
     "text": [
      "Built Hankel matrix with shape (100, 199901)\n"
     ]
    }
   ],
   "source": [
    "lorh.build_Hankel();"
   ]
  },
  {
   "cell_type": "code",
   "execution_count": 7,
   "id": "c69300c8-95c5-4c15-adcd-fedf93076c38",
   "metadata": {
    "tags": []
   },
   "outputs": [],
   "source": [
    "lorh.svd();"
   ]
  },
  {
   "cell_type": "code",
   "execution_count": 8,
   "id": "0bc9e7c0-3c1d-4edf-9fdb-4efec358c70b",
   "metadata": {},
   "outputs": [],
   "source": [
    "# set the sindy routines to default\n",
    "lorh.set_sindy()"
   ]
  },
  {
   "cell_type": "code",
   "execution_count": 9,
   "id": "e5661c67-56bd-40d1-8e23-0fc7f7bd1c2f",
   "metadata": {
    "tags": []
   },
   "outputs": [
    {
     "name": "stdout",
     "output_type": "stream",
     "text": [
      "sparse regression Xi of shape (22, 20)\n"
     ]
    }
   ],
   "source": [
    "regr = lorh.regression()  # catch returns or use semicolons to suppress stdout"
   ]
  },
  {
   "cell_type": "code",
   "execution_count": 10,
   "id": "38555a81-8406-4987-af95-9430c6bae95a",
   "metadata": {},
   "outputs": [
    {
     "data": {
      "image/png": "[encoded data removed]",
      "text/plain": [
       "<Figure size 504x432 with 3 Axes>"
      ]
     },
     "metadata": {
      "needs_background": "light"
     },
     "output_type": "display_data"
    }
   ],
   "source": [
    "lorh.show_regression()  # just to check it out"
   ]
  },
  {
   "cell_type": "markdown",
   "id": "e6cba5e4-e155-4064-b49b-92f51f52da04",
   "metadata": {},
   "source": [
    "### Retrieve the test dataset"
   ]
  },
  {
   "cell_type": "code",
   "execution_count": 11,
   "id": "50bee266-7f4a-42f4-a197-56cde6bbf4ee",
   "metadata": {},
   "outputs": [
    {
     "data": {
      "text/plain": [
       "(2000000, 21)"
      ]
     },
     "execution_count": 11,
     "metadata": {},
     "output_type": "execute_result"
    }
   ],
   "source": [
    "v_test, t_test = lorh.compute_test_dataset()\n",
    "v_test.shape"
   ]
  },
  {
   "cell_type": "code",
   "execution_count": 12,
   "id": "18d8ce29-3256-4b29-9a37-4dd60383ac7d",
   "metadata": {},
   "outputs": [
    {
     "data": {
      "text/plain": [
       "(2000000,)"
      ]
     },
     "execution_count": 12,
     "metadata": {},
     "output_type": "execute_result"
    }
   ],
   "source": [
    "x_test = lorh.get_test_timeseries()\n",
    "x_test.shape"
   ]
  },
  {
   "cell_type": "markdown",
   "id": "c12f36bf-fb1b-46b6-9b9f-a71fbf098acb",
   "metadata": {},
   "source": [
    "### Save the test dataset"
   ]
  },
  {
   "cell_type": "code",
   "execution_count": 13,
   "id": "9e24973c-37d5-4dfa-9b0c-d3f775ac41e3",
   "metadata": {},
   "outputs": [],
   "source": [
    "np.save(data_path + 'test_v', v_test)\n",
    "np.save(data_path + 'test_t', t_test)\n",
    "np.save(data_path + 'test_x', x_test)"
   ]
  },
  {
   "cell_type": "code",
   "execution_count": 14,
   "id": "df1df508-b7c2-46fc-996a-c2f6e8832b3d",
   "metadata": {},
   "outputs": [],
   "source": [
    "# add other necessary files\n",
    "np.save(data_path + 'svd_u', lorh.svd_u)\n",
    "np.save(data_path + 'svd_sigma', lorh.svd_s)"
   ]
  },
  {
   "cell_type": "markdown",
   "id": "f2d38500-2167-4097-821a-a55b6b384ca3",
   "metadata": {},
   "source": [
    "***\n",
    "\n",
    "**Workgroup**: Barone Francesco, Nagaro Gianmarco, Ninni Daniele, Valentini Lorenzo.\n",
    "\n",
    "University of Padua, **Laboratory of Computational Physics**, module B."
   ]
  }
 ],
 "metadata": {
  "kernelspec": {
   "display_name": "Python 3 (ipykernel)",
   "language": "python",
   "name": "python3"
  },
  "language_info": {
   "codemirror_mode": {
    "name": "ipython",
    "version": 3
   },
   "file_extension": ".py",
   "mimetype": "text/x-python",
   "name": "python",
   "nbconvert_exporter": "python",
   "pygments_lexer": "ipython3",
   "version": "3.8.10"
  }
 },
 "nbformat": 4,
 "nbformat_minor": 5
}
