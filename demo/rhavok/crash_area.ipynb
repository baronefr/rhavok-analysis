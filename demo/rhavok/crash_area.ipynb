{
 "cells": [
  {
   "cell_type": "markdown",
   "id": "00a1d0eb-6e5d-4ca2-8775-99013ce464b4",
   "metadata": {},
   "source": [
    "# crash area"
   ]
  },
  {
   "cell_type": "code",
   "execution_count": 6,
   "id": "5f1c507d-2d4a-4758-9515-2deb12fb0d1a",
   "metadata": {},
   "outputs": [
    {
     "name": "stdout",
     "output_type": "stream",
     "text": [
      "Populating the interactive namespace from numpy and matplotlib\n"
     ]
    }
   ],
   "source": [
    "%pylab inline\n",
    "# %config InlineBackend.figure_format = 'retina'  # Use for retina display resolution"
   ]
  },
  {
   "cell_type": "code",
   "execution_count": 2,
   "id": "10351308-d1f3-4509-8ec2-ccf74ddc7536",
   "metadata": {},
   "outputs": [],
   "source": [
    "import numpy as np\n",
    "from rhavok.utils import mybuffer"
   ]
  },
  {
   "cell_type": "code",
   "execution_count": 6,
   "id": "be35cdda-2840-4e94-ad07-3579d2d9ff48",
   "metadata": {},
   "outputs": [],
   "source": [
    "bf = mybuffer(record_size = 5, dtype='|int8, bool, float64, float64, float64')\n",
    "i = 0"
   ]
  },
  {
   "cell_type": "code",
   "execution_count": 7,
   "id": "3b6b20c2-9f0d-4c5b-aa63-ed1da5d003ef",
   "metadata": {},
   "outputs": [
    {
     "name": "stdout",
     "output_type": "stream",
     "text": [
      "(0, False, 0., 0., 0.)\n",
      "[0.  0.  0.5 0.8 0.9]\n",
      "(0, False, 0., 0., 0.)\n",
      "[1.   1.   0.46 0.15 0.99]\n",
      "(0, False, 0., 0., 0.)\n",
      "[2.   0.   0.33 0.83 0.64]\n"
     ]
    }
   ],
   "source": [
    "bf.record( i, False, np.random.rand(3).round(1))\n",
    "i += 1\n",
    "bf.record( i, True, np.random.rand(3).round(2))\n",
    "i += 1\n",
    "bf.record( i, False, np.random.rand(3).round(2))\n",
    "i += 1"
   ]
  },
  {
   "cell_type": "code",
   "execution_count": 8,
   "id": "b0b2bae7-9d8a-4c8f-a9a0-0959abfd1dca",
   "metadata": {},
   "outputs": [
    {
     "data": {
      "text/plain": [
       "array([(0, False, 0.5 , 0.8 , 0.9 ), (1,  True, 0.46, 0.15, 0.99),\n",
       "       (2, False, 0.33, 0.83, 0.64)],\n",
       "      dtype=[('f0', 'i1'), ('f1', '?'), ('f2', '<f8'), ('f3', '<f8'), ('f4', '<f8')])"
      ]
     },
     "execution_count": 8,
     "metadata": {},
     "output_type": "execute_result"
    }
   ],
   "source": [
    "k = bf.read_lifo(n=5)\n",
    "k"
   ]
  },
  {
   "cell_type": "code",
   "execution_count": 14,
   "id": "e4aab1a0-73ca-4deb-a91e-4bafb0d36edd",
   "metadata": {},
   "outputs": [
    {
     "data": {
      "text/plain": [
       "array([(0, False, 0.5 , 0.8 , 0.9 ), (1,  True, 0.46, 0.15, 0.99),\n",
       "       (2, False, 0.33, 0.83, 0.64)],\n",
       "      dtype=[('f0', 'i1'), ('f1', '?'), ('f2', '<f8'), ('f3', '<f8'), ('f4', '<f8')])"
      ]
     },
     "execution_count": 14,
     "metadata": {},
     "output_type": "execute_result"
    }
   ],
   "source": [
    "k"
   ]
  },
  {
   "cell_type": "code",
   "execution_count": 25,
   "id": "71cbc4cd-0ee5-4f30-b629-d03f26996e05",
   "metadata": {},
   "outputs": [
    {
     "ename": "NameError",
     "evalue": "name 'allo' is not defined",
     "output_type": "error",
     "traceback": [
      "\u001b[0;31m---------------------------------------------------------------------------\u001b[0m",
      "\u001b[0;31mNameError\u001b[0m                                 Traceback (most recent call last)",
      "\u001b[0;32m/tmp/ipykernel_30502/1622602308.py\u001b[0m in \u001b[0;36m<module>\u001b[0;34m\u001b[0m\n\u001b[0;32m----> 1\u001b[0;31m \u001b[0mallo\u001b[0m\u001b[0;34m[\u001b[0m\u001b[0;36m0\u001b[0m\u001b[0;34m]\u001b[0m \u001b[0;34m=\u001b[0m \u001b[0;34m(\u001b[0m\u001b[0;36m5\u001b[0m\u001b[0;34m,\u001b[0m\u001b[0;36m3.2\u001b[0m\u001b[0;34m,\u001b[0m\u001b[0;32mTrue\u001b[0m\u001b[0;34m,\u001b[0m\u001b[0;36m4.4\u001b[0m\u001b[0;34m)\u001b[0m\u001b[0;34m\u001b[0m\u001b[0;34m\u001b[0m\u001b[0m\n\u001b[0m",
      "\u001b[0;31mNameError\u001b[0m: name 'allo' is not defined"
     ]
    }
   ],
   "source": []
  },
  {
   "cell_type": "code",
   "execution_count": 5,
   "id": "1f0eeb1f-64be-42be-92ff-468eef124895",
   "metadata": {},
   "outputs": [
    {
     "data": {
      "text/plain": [
       "array([[1.46200e-03, 4.66000e-04, 1.38660e-02, 1.00000e+00],\n",
       "       [1.46200e-03, 4.66000e-04, 1.38660e-02, 1.00000e+00],\n",
       "       [1.46200e-03, 4.66000e-04, 1.38660e-02, 1.00000e+00],\n",
       "       ...,\n",
       "       [9.87053e-01, 9.91438e-01, 7.49504e-01, 1.00000e+00],\n",
       "       [9.87053e-01, 9.91438e-01, 7.49504e-01, 1.00000e+00],\n",
       "       [9.87053e-01, 9.91438e-01, 7.49504e-01, 1.00000e+00]])"
      ]
     },
     "execution_count": 5,
     "metadata": {},
     "output_type": "execute_result"
    }
   ],
   "source": [
    "import matplotlib.pyplot as plt\n",
    "plt.cm.magma(np.linspace(0,1,1000))"
   ]
  },
  {
   "cell_type": "code",
   "execution_count": null,
   "id": "87f72dab-7a4b-4296-8273-5d094e8b128d",
   "metadata": {},
   "outputs": [],
   "source": []
  }
 ],
 "metadata": {
  "kernelspec": {
   "display_name": "Python 3 (ipykernel)",
   "language": "python",
   "name": "python3"
  },
  "language_info": {
   "codemirror_mode": {
    "name": "ipython",
    "version": 3
   },
   "file_extension": ".py",
   "mimetype": "text/x-python",
   "name": "python",
   "nbconvert_exporter": "python",
   "pygments_lexer": "ipython3",
   "version": "3.8.10"
  }
 },
 "nbformat": 4,
 "nbformat_minor": 5
}
